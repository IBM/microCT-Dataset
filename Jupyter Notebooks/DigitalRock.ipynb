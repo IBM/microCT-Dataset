{
 "cells": [
  {
   "cell_type": "code",
   "execution_count": 1,
   "id": "699f06ed-7a64-4aca-b35f-d659382b1c67",
   "metadata": {},
   "outputs": [],
   "source": [
    "%matplotlib widget"
   ]
  },
  {
   "cell_type": "markdown",
   "id": "0a789dec-cb34-46d6-9826-3f50cb125f5f",
   "metadata": {},
   "source": [
    "# MicroCT Image Processing"
   ]
  },
  {
   "cell_type": "code",
   "execution_count": 2,
   "id": "dfa3624f-9433-4181-8587-75c7d32c0114",
   "metadata": {},
   "outputs": [],
   "source": [
    "#\n",
    "# Copyright 2020- IBM Inc. All rights reserved\n",
    "# SPDX-License-Identifier: BSD-3-Clause\n",
    "#"
   ]
  },
  {
   "cell_type": "markdown",
   "id": "12bb5b3d-f887-43a7-a140-6166d9bad7af",
   "metadata": {},
   "source": [
    "## About this Notebook"
   ]
  },
  {
   "cell_type": "markdown",
   "id": "eef50e6d-47a1-4550-af61-97ef2df4f3b0",
   "metadata": {},
   "source": [
    "This companion notebook is published along a data-centric journal publication [1] related to a published Open-Source dataset on cabonate and sandstone rock tomographies [2] and aims to provide readers and users of the dataset with a way to visualize the data, as well as to the algorithms used for processing of the microCT image data.\n",
    "\n",
    "This notebook also demonstrates the difference between using the Otsu and multi-Otsu algorithms for determining the porosity of the samples. Further information about these algorithms and their effect on the porosity estimates can be found in [1]."
   ]
  },
  {
   "cell_type": "markdown",
   "id": "ad63213d-eea5-4199-81f1-98b6f3642336",
   "metadata": {},
   "source": [
    "### References "
   ]
  },
  {
   "cell_type": "markdown",
   "id": "bbd6b01d-36f2-4700-b6b5-121d3ae319ce",
   "metadata": {},
   "source": [
    "[1] Add reference to paper\n",
    "\n",
    "[2] 10.25452/figshare.plus.21375565"
   ]
  },
  {
   "cell_type": "markdown",
   "id": "21b07ae7-cb77-45d7-a38c-d48b0914e5df",
   "metadata": {
    "tags": []
   },
   "source": [
    "## Importing Libraries"
   ]
  },
  {
   "cell_type": "code",
   "execution_count": 3,
   "id": "10b56b89-40dc-42e1-b399-f2327f282d87",
   "metadata": {},
   "outputs": [],
   "source": [
    "import numpy as np\n",
    "import matplotlib as mpl\n",
    "import matplotlib.pyplot as plt\n",
    "import ipywidgets as widgets\n",
    "from skimage.filters import threshold_multiotsu, threshold_otsu"
   ]
  },
  {
   "cell_type": "markdown",
   "id": "a50d3998-5584-4c7f-bac0-b8967d2368b4",
   "metadata": {
    "tags": []
   },
   "source": [
    "### Digital Rock Class"
   ]
  },
  {
   "cell_type": "markdown",
   "id": "66a0cf06-eb26-4193-afd0-379045b263bd",
   "metadata": {},
   "source": [
    "The digital rock class contains the algorithm used for contrast filtering of the rock samples. An instance to this class takes as input the path of the raw NxNxN cube file and the number of pixels on each size of the cube, N.\n",
    "\n",
    "It is important to note, however, that this code won't work as is for the full paralellpided files, as it expects cubic volumes. This can be easily circonvented, but may be unusable due to memory requirements.\n",
    "\n",
    "The equalize function carries out the contrast enhancement filter as described on [1]. As default, the filter cuts off the histogram at the 99.8 percentile, but this can be changed in the \"clip\" variable."
   ]
  },
  {
   "cell_type": "code",
   "execution_count": 4,
   "id": "22eab84e-a80f-495d-9e91-9fc41c694210",
   "metadata": {},
   "outputs": [],
   "source": [
    "class digitalRock():\n",
    "    def __init__(self, path, N):\n",
    "        self.N = N\n",
    "        self.volume = np.fromfile(path, dtype=np.uint8).reshape([N,N,N])\n",
    "        \n",
    "    def multp(self, A):\n",
    "        return np.uint8((A*self.scale)*255)\n",
    "    \n",
    "    def equalize(self, clip=99.8):\n",
    "        self.filter_thr = int(np.percentile(self.volume, clip))\n",
    "        clipped_volume = np.clip(self.volume, 0, self.filter_thr)\n",
    "        self.minInt = clipped_volume.min()\n",
    "        self.maxInt = clipped_volume.max()\n",
    "        self.scale = 1/(self.maxInt-self.minInt)\n",
    "        \n",
    "        clipped_volume -= self.minInt\n",
    "        filtered = np.array(list(map(self.multp,clipped_volume)))\n",
    "        \n",
    "        return filtered"
   ]
  },
  {
   "cell_type": "markdown",
   "id": "c2aa2052-fd4f-469e-966a-c37da3108af5",
   "metadata": {
    "tags": []
   },
   "source": [
    "### Visualizations"
   ]
  },
  {
   "cell_type": "code",
   "execution_count": 5,
   "id": "0b46e0ff-ae6c-4e72-bc9d-e71270b36616",
   "metadata": {},
   "outputs": [],
   "source": [
    "def plot_slices(img, N=2500, scale=True):\n",
    "    @widgets.interact(Zslice=(0,N-1,1))\n",
    "    def update(Zslice = 0):\n",
    "        plt.figure()\n",
    "        plt.xlabel('X')\n",
    "        plt.ylabel('Y')\n",
    "        plt.title('Z={}'.format(Zslice))\n",
    "        if scale==True:\n",
    "            plt.imshow(img[:,:,Zslice], vmin=0, vmax=255)\n",
    "        else:\n",
    "            plt.imshow(img[:,:,Zslice])\n",
    "        plt.colorbar()\n",
    "        plt.show()"
   ]
  },
  {
   "cell_type": "code",
   "execution_count": 6,
   "id": "721b6e14-d7a8-4bca-9b19-223bdcb09538",
   "metadata": {},
   "outputs": [],
   "source": [
    "def plot_hist(img, N=2500):\n",
    "    @widgets.interact(Zslice=(0,N-1,1))\n",
    "    def update(Zslice = 0):\n",
    "        plt.figure()\n",
    "        plt.title('Z={}'.format(Zslice))\n",
    "        plt.hist(img[:,:,Zslice].ravel(), bins=255, range=[0,255])\n",
    "        plt.show()"
   ]
  },
  {
   "cell_type": "markdown",
   "id": "071cd56b-ce60-482c-985a-c87159e4b013",
   "metadata": {
    "tags": []
   },
   "source": [
    " ## Loading Data                                              "
   ]
  },
  {
   "cell_type": "code",
   "execution_count": 7,
   "id": "f94eb13b-38b0-4dfd-8c6e-37e1898a0a9f",
   "metadata": {},
   "outputs": [],
   "source": [
    "filename = 'kocurek_5a_2p25um_ir_rec_2500x2500x2500_grayscale_filtered_ROI-1.raw'\n",
    "N=2500"
   ]
  },
  {
   "cell_type": "code",
   "execution_count": 15,
   "id": "f90e7a29-1a86-431b-acd6-3d387ecb6b25",
   "metadata": {},
   "outputs": [],
   "source": [
    "rock = digitalRock(filename, N)"
   ]
  },
  {
   "cell_type": "markdown",
   "id": "69610cf2-fcf0-4fe5-b9c4-eb3081c04929",
   "metadata": {},
   "source": [
    "### Selecting an Image Subset"
   ]
  },
  {
   "cell_type": "markdown",
   "id": "914c24cd-6694-43ee-86bd-1aab106774bc",
   "metadata": {},
   "source": [
    "Due to the large memory requirements for loading the full microCT images in this work, the next cell can be used to select a subset of the original raw volume (given by N). In case you prefer to visualize a subset of the image, commenting the next cell will be enough. It is important to note that the memory requirements can be up to 8x the image size (due to conversions between uint8 and float 64 by numpy)."
   ]
  },
  {
   "cell_type": "code",
   "execution_count": null,
   "id": "c5106a01-3520-4353-9312-f982543f7818",
   "metadata": {},
   "outputs": [],
   "source": [
    "# N = 1000\n",
    "# rock.volume = rock.volume[:N, :N,:N]"
   ]
  },
  {
   "cell_type": "markdown",
   "id": "208330e8-d576-4f77-bafc-49eacc34b7ee",
   "metadata": {
    "tags": []
   },
   "source": [
    "## Data Visualization"
   ]
  },
  {
   "cell_type": "code",
   "execution_count": 21,
   "id": "e2cad146-69f3-47ce-9939-da9892fefe20",
   "metadata": {},
   "outputs": [
    {
     "data": {
      "application/vnd.jupyter.widget-view+json": {
       "model_id": "fb3c45e657244868b6d7b54ffef2d1b6",
       "version_major": 2,
       "version_minor": 0
      },
      "text/plain": [
       "interactive(children=(IntSlider(value=0, description='Zslice', max=2499), Output()), _dom_classes=('widget-int…"
      ]
     },
     "metadata": {},
     "output_type": "display_data"
    }
   ],
   "source": [
    "plot_slices(rock.volume, N=N)"
   ]
  },
  {
   "cell_type": "code",
   "execution_count": 22,
   "id": "de1d5a0a-161d-43fe-99d3-770944d90992",
   "metadata": {},
   "outputs": [
    {
     "data": {
      "application/vnd.jupyter.widget-view+json": {
       "model_id": "1cf03a0f92d24cdcbfef161c7175a2d9",
       "version_major": 2,
       "version_minor": 0
      },
      "text/plain": [
       "interactive(children=(IntSlider(value=0, description='Zslice', max=2499), Output()), _dom_classes=('widget-int…"
      ]
     },
     "metadata": {},
     "output_type": "display_data"
    }
   ],
   "source": [
    "plot_hist(rock.volume, N=N)"
   ]
  },
  {
   "cell_type": "markdown",
   "id": "75649023-d4dc-4490-a800-99039c2e3626",
   "metadata": {
    "tags": []
   },
   "source": [
    "## Contrast Enhancement Filter"
   ]
  },
  {
   "cell_type": "code",
   "execution_count": 23,
   "id": "aa280875-9c82-43b2-90d6-b47294930228",
   "metadata": {},
   "outputs": [],
   "source": [
    "filtered = rock.equalize()"
   ]
  },
  {
   "cell_type": "markdown",
   "id": "c179b978-9435-4fd3-9a77-93d612170533",
   "metadata": {
    "tags": []
   },
   "source": [
    "### Before"
   ]
  },
  {
   "cell_type": "code",
   "execution_count": 24,
   "id": "b46d8e2f-2929-4962-a3fb-9e886af12961",
   "metadata": {},
   "outputs": [
    {
     "data": {
      "application/vnd.jupyter.widget-view+json": {
       "model_id": "806029ea6fef4ec1bf8e775f233970e0",
       "version_major": 2,
       "version_minor": 0
      },
      "text/plain": [
       "interactive(children=(IntSlider(value=0, description='Zslice', max=2499), Output()), _dom_classes=('widget-int…"
      ]
     },
     "metadata": {},
     "output_type": "display_data"
    }
   ],
   "source": [
    "plot_slices(rock.volume, N=N)"
   ]
  },
  {
   "cell_type": "code",
   "execution_count": 25,
   "id": "5a59df68-86cf-4129-a35a-681be8047f01",
   "metadata": {},
   "outputs": [
    {
     "data": {
      "application/vnd.jupyter.widget-view+json": {
       "model_id": "32935def74be4b6aa2b717f0712da250",
       "version_major": 2,
       "version_minor": 0
      },
      "text/plain": [
       "interactive(children=(IntSlider(value=0, description='Zslice', max=2499), Output()), _dom_classes=('widget-int…"
      ]
     },
     "metadata": {},
     "output_type": "display_data"
    }
   ],
   "source": [
    "plot_hist(rock.volume, N=N)"
   ]
  },
  {
   "cell_type": "markdown",
   "id": "24964298-8a20-465a-a06a-1f3cb452f21c",
   "metadata": {
    "tags": []
   },
   "source": [
    "### After"
   ]
  },
  {
   "cell_type": "code",
   "execution_count": 26,
   "id": "d7a26237-9fbf-4d50-9fa0-3f0078101f22",
   "metadata": {},
   "outputs": [
    {
     "data": {
      "application/vnd.jupyter.widget-view+json": {
       "model_id": "934ddc57686d406685e45d0f59aac71b",
       "version_major": 2,
       "version_minor": 0
      },
      "text/plain": [
       "interactive(children=(IntSlider(value=0, description='Zslice', max=2499), Output()), _dom_classes=('widget-int…"
      ]
     },
     "metadata": {},
     "output_type": "display_data"
    }
   ],
   "source": [
    "plot_slices(filtered, N=N)"
   ]
  },
  {
   "cell_type": "code",
   "execution_count": 27,
   "id": "a6fe8f97-ee50-4c31-8c54-1c4e5fd5d5bd",
   "metadata": {},
   "outputs": [
    {
     "data": {
      "application/vnd.jupyter.widget-view+json": {
       "model_id": "3bef080985b34fa99c86d7a7045aba87",
       "version_major": 2,
       "version_minor": 0
      },
      "text/plain": [
       "interactive(children=(IntSlider(value=0, description='Zslice', max=2499), Output()), _dom_classes=('widget-int…"
      ]
     },
     "metadata": {},
     "output_type": "display_data"
    }
   ],
   "source": [
    "plot_hist(filtered, N=N)"
   ]
  },
  {
   "cell_type": "markdown",
   "id": "5fc95107-53ec-4503-8473-4d119170cc00",
   "metadata": {
    "tags": []
   },
   "source": [
    "## Anisotropic Diffusion"
   ]
  },
  {
   "cell_type": "markdown",
   "id": "20bff4ab-e744-43ce-af49-fe625be6cc78",
   "metadata": {},
   "source": [
    "As discussed in the methods section [1], the images generated from the last step were later processed by an anisotropic diffusion filter implemented into the CT analyser software (Bruker, version 1.20.8.0). The filter was set to 3D space, the type used was Privilege high contrast edges (Perona-Malik), the number of iterations set to 5 and the gradient threshold set to 10. The user defined integration constant was left unchecked. This step reduces the amount of image noise that is inherent in any digital imaging technique."
   ]
  },
  {
   "cell_type": "markdown",
   "id": "e97055f8-f42b-4879-bdc3-884e9c928b7e",
   "metadata": {
    "tags": []
   },
   "source": [
    "## Image Segmentation"
   ]
  },
  {
   "cell_type": "markdown",
   "id": "1ebf17d6-0e26-45b6-a10a-067ed815da40",
   "metadata": {
    "tags": []
   },
   "source": [
    "### Otsu"
   ]
  },
  {
   "cell_type": "code",
   "execution_count": 28,
   "id": "3440c8ae-2185-49c1-96ff-f701a04e78b7",
   "metadata": {},
   "outputs": [],
   "source": [
    "thr_otsu = threshold_otsu(filtered)"
   ]
  },
  {
   "cell_type": "code",
   "execution_count": 29,
   "id": "d47a1383-7b51-4244-8b26-336b4b63283e",
   "metadata": {},
   "outputs": [],
   "source": [
    "binary_otsu = filtered >= thr_otsu"
   ]
  },
  {
   "cell_type": "code",
   "execution_count": 30,
   "id": "7fc11636-4844-4b87-b0ea-8414cfcfd784",
   "metadata": {},
   "outputs": [
    {
     "data": {
      "application/vnd.jupyter.widget-view+json": {
       "model_id": "f3c043cb3b444e0ea64b9bcbd8b9d28f",
       "version_major": 2,
       "version_minor": 0
      },
      "text/plain": [
       "interactive(children=(IntSlider(value=0, description='Zslice', max=2499), Output()), _dom_classes=('widget-int…"
      ]
     },
     "metadata": {},
     "output_type": "display_data"
    }
   ],
   "source": [
    "plot_slices(binary_otsu, N=N, scale=False)"
   ]
  },
  {
   "cell_type": "markdown",
   "id": "c50e5d8c-f35d-4607-92b5-c2cc163c2405",
   "metadata": {
    "tags": []
   },
   "source": [
    "### Multilevel Otsu"
   ]
  },
  {
   "cell_type": "code",
   "execution_count": 31,
   "id": "4d77690e-1ee1-49e7-8e4c-e0044c00d8c4",
   "metadata": {},
   "outputs": [],
   "source": [
    "thr_multiotsu = threshold_multiotsu(filtered)"
   ]
  },
  {
   "cell_type": "code",
   "execution_count": 32,
   "id": "80508bfc-2604-4c68-8b5a-972966d1b85b",
   "metadata": {},
   "outputs": [],
   "source": [
    "regions = np.digitize(filtered, bins=thr_multiotsu)"
   ]
  },
  {
   "cell_type": "code",
   "execution_count": 33,
   "id": "e06644f5-2921-420f-87b7-ea468c2c1aed",
   "metadata": {},
   "outputs": [
    {
     "data": {
      "application/vnd.jupyter.widget-view+json": {
       "model_id": "8fe9539865e74f70bf98bd0a8afc1bb9",
       "version_major": 2,
       "version_minor": 0
      },
      "text/plain": [
       "interactive(children=(IntSlider(value=0, description='Zslice', max=2499), Output()), _dom_classes=('widget-int…"
      ]
     },
     "metadata": {},
     "output_type": "display_data"
    }
   ],
   "source": [
    "plot_slices(regions, N=N, scale=False)"
   ]
  },
  {
   "cell_type": "code",
   "execution_count": 34,
   "id": "e345fab2-e8f9-4c8b-b5f3-4934d7e139ee",
   "metadata": {},
   "outputs": [
    {
     "data": {
      "text/plain": [
       "array([107, 142])"
      ]
     },
     "execution_count": 34,
     "metadata": {},
     "output_type": "execute_result"
    }
   ],
   "source": [
    "thr_multiotsu"
   ]
  },
  {
   "cell_type": "code",
   "execution_count": 45,
   "id": "2c2d746f-23c3-4906-b082-abe1b17af8ba",
   "metadata": {},
   "outputs": [],
   "source": [
    "binary_multiotsu = filtered >= thr_multiotsu[0]"
   ]
  },
  {
   "cell_type": "code",
   "execution_count": 36,
   "id": "fe0e7dbc-810e-41a8-b91b-0d10320c4a48",
   "metadata": {},
   "outputs": [
    {
     "data": {
      "application/vnd.jupyter.widget-view+json": {
       "model_id": "d97cf60428a547769b2c6c156131a92c",
       "version_major": 2,
       "version_minor": 0
      },
      "text/plain": [
       "interactive(children=(IntSlider(value=0, description='Zslice', max=2499), Output()), _dom_classes=('widget-int…"
      ]
     },
     "metadata": {},
     "output_type": "display_data"
    }
   ],
   "source": [
    "plot_slices(binary_multiotsu, N=N, scale=False)"
   ]
  },
  {
   "cell_type": "markdown",
   "id": "ac522d16-e274-4469-a47c-7338a1a10665",
   "metadata": {},
   "source": [
    "### Calculating Porosity"
   ]
  },
  {
   "cell_type": "code",
   "execution_count": 37,
   "id": "092d7946-99fe-4010-ab64-64a2c4124812",
   "metadata": {},
   "outputs": [
    {
     "name": "stdout",
     "output_type": "stream",
     "text": [
      "Calculated Porosity for Otsu = 32.0 %\n"
     ]
    }
   ],
   "source": [
    "porosity_otsu = 1-np.mean(binary_otsu)\n",
    "print('Calculated Porosity for Otsu = {} %'.format(np.round(porosity_otsu, 2)*100))"
   ]
  },
  {
   "cell_type": "code",
   "execution_count": 38,
   "id": "2205bb7a-b12a-413d-a120-21fd787dfa29",
   "metadata": {},
   "outputs": [
    {
     "name": "stdout",
     "output_type": "stream",
     "text": [
      "Calculated Porosity for MultiOtsu = 9.0 %\n"
     ]
    }
   ],
   "source": [
    "porosity_multiotsu = 1-np.mean(binary_multiotsu)\n",
    "print('Calculated Porosity for MultiOtsu = {} %'.format(np.round(porosity_multiotsu, 2)*100))"
   ]
  },
  {
   "cell_type": "markdown",
   "id": "59acf955-8617-40ce-9c74-13c3ea31862a",
   "metadata": {},
   "source": [
    "## Data Export"
   ]
  },
  {
   "cell_type": "markdown",
   "id": "419d3633-61c4-471a-b115-68adc570250b",
   "metadata": {},
   "source": [
    "If you wish to save the filtered data, just execute the code below for saving the new image to the folder"
   ]
  },
  {
   "cell_type": "code",
   "execution_count": null,
   "id": "096abe25-40a1-4205-9a07-b13dae2d39e3",
   "metadata": {},
   "outputs": [],
   "source": [
    "# filtered.tofile(workdir + filename.replace('grayscale', 'binary'))\n"
   ]
  }
 ],
 "metadata": {
  "kernelspec": {
   "display_name": "Python 3 (ipykernel)",
   "language": "python",
   "name": "python3"
  },
  "language_info": {
   "codemirror_mode": {
    "name": "ipython",
    "version": 3
   },
   "file_extension": ".py",
   "mimetype": "text/x-python",
   "name": "python",
   "nbconvert_exporter": "python",
   "pygments_lexer": "ipython3",
   "version": "3.7.13"
  }
 },
 "nbformat": 4,
 "nbformat_minor": 5
}
